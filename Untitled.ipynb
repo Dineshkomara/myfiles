{
 "cells": [
  {
   "cell_type": "code",
   "execution_count": 1,
   "id": "4252357a",
   "metadata": {},
   "outputs": [],
   "source": [
    "arr1=[[0,0,0,0,0,0,0,0,0,0],\n",
    "      [0,7,14,19,22,6,7,11,17,0],\n",
    "      [0,25,18,16,3,14,11,2,22,0],\n",
    "      [0,16,27,24,13,7,19,21,6,0],\n",
    "      [0,5,32,14,17,29,23,15,8,0],\n",
    "      [0,23,28,17,19,14,16,4,4,0],\n",
    "      [0,23,28,15,19,16,2,18,4,0],\n",
    "      [0,14,16,7,9,23,27,5,2,0],\n",
    "      [0,29,20,10,11,4,7,18,17,0],\n",
    "      [0,0,0,0,0,0,0,0,0,0]]"
   ]
  },
  {
   "cell_type": "code",
   "execution_count": 2,
   "id": "8f3f7b50",
   "metadata": {},
   "outputs": [],
   "source": [
    "arr2=[[0,0,0],\n",
    "      [0,1,0],\n",
    "      [0,0,0]]"
   ]
  },
  {
   "cell_type": "code",
   "execution_count": 3,
   "id": "a21c4ba2",
   "metadata": {},
   "outputs": [],
   "source": [
    "arr3=[[0,0,0,0,0,0,0,0],\n",
    "      [0,0,0,0,0,0,0,0],\n",
    "      [0,0,0,0,0,0,0,0],\n",
    "      [0,0,0,0,0,0,0,0],\n",
    "      [0,0,0,0,0,0,0,0],\n",
    "      [0,0,0,0,0,0,0,0],\n",
    "      [0,0,0,0,0,0,0,0],\n",
    "      [0,0,0,0,0,0,0,0]]"
   ]
  },
  {
   "cell_type": "code",
   "execution_count": 4,
   "id": "64b3bb2b",
   "metadata": {},
   "outputs": [],
   "source": [
    "for i in range (0,8):\n",
    "    for j in range (0,8):\n",
    "        arr3[i][j]=(arr1[i][j]*arr2[0][0])+(arr1[i][j+1]*arr2[0][1])+(arr1[i][j+2]*arr2[0][2])+(arr1[i+1][j]*arr2[1][0])+(arr1[i+1][j+1]*arr2[1][1])+(arr1[i+1][j+2]*arr2[1][2])+(arr1[i+2][j]*arr2[2][0])+(arr1[i+2][j+1]*arr2[2][1])+(arr1[i+2][j+2]*arr2[2][2])\n",
    "        "
   ]
  },
  {
   "cell_type": "code",
   "execution_count": 5,
   "id": "1563ddae",
   "metadata": {},
   "outputs": [
    {
     "name": "stdout",
     "output_type": "stream",
     "text": [
      "[[7, 14, 19, 22, 6, 7, 11, 17], [25, 18, 16, 3, 14, 11, 2, 22], [16, 27, 24, 13, 7, 19, 21, 6], [5, 32, 14, 17, 29, 23, 15, 8], [23, 28, 17, 19, 14, 16, 4, 4], [23, 28, 15, 19, 16, 2, 18, 4], [14, 16, 7, 9, 23, 27, 5, 2], [29, 20, 10, 11, 4, 7, 18, 17]]\n"
     ]
    }
   ],
   "source": [
    "print(arr3)"
   ]
  }
 ],
 "metadata": {
  "kernelspec": {
   "display_name": "Python 3 (ipykernel)",
   "language": "python",
   "name": "python3"
  },
  "language_info": {
   "codemirror_mode": {
    "name": "ipython",
    "version": 3
   },
   "file_extension": ".py",
   "mimetype": "text/x-python",
   "name": "python",
   "nbconvert_exporter": "python",
   "pygments_lexer": "ipython3",
   "version": "3.9.12"
  }
 },
 "nbformat": 4,
 "nbformat_minor": 5
}
